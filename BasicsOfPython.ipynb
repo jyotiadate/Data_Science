{
 "cells": [
  {
   "cell_type": "code",
   "execution_count": 1,
   "id": "07610816",
   "metadata": {},
   "outputs": [
    {
     "data": {
      "text/plain": [
       "-194"
      ]
     },
     "execution_count": 1,
     "metadata": {},
     "output_type": "execute_result"
    }
   ],
   "source": [
    "100+27-321\n"
   ]
  },
  {
   "cell_type": "code",
   "execution_count": null,
   "id": "352db3aa",
   "metadata": {},
   "outputs": [],
   "source": []
  },
  {
   "cell_type": "code",
   "execution_count": 12,
   "id": "3f603e58",
   "metadata": {},
   "outputs": [
    {
     "data": {
      "text/plain": [
       "112.48214285714286"
      ]
     },
     "execution_count": 12,
     "metadata": {},
     "output_type": "execute_result"
    }
   ],
   "source": [
    "x=112\n",
    "y=27\n",
    "z=56\n",
    "products=x+y/z\n",
    "products"
   ]
  },
  {
   "cell_type": "code",
   "execution_count": 9,
   "id": "b45d22fb",
   "metadata": {},
   "outputs": [
    {
     "data": {
      "text/plain": [
       "2.482142857142857"
      ]
     },
     "execution_count": 9,
     "metadata": {},
     "output_type": "execute_result"
    }
   ],
   "source": [
    "z=56\n",
    "x=112\n",
    "y=27\n",
    "xy=x+y\n",
    "yz=xy/z\n",
    "yz\n",
    "xy\n",
    "yz"
   ]
  },
  {
   "cell_type": "code",
   "execution_count": 13,
   "id": "18bf3c4f",
   "metadata": {},
   "outputs": [
    {
     "name": "stdout",
     "output_type": "stream",
     "text": [
      "jyoti adate\n"
     ]
    }
   ],
   "source": [
    "print(\"jyoti adate\")"
   ]
  },
  {
   "cell_type": "code",
   "execution_count": 14,
   "id": "5023330c",
   "metadata": {},
   "outputs": [
    {
     "name": "stdout",
     "output_type": "stream",
     "text": [
      "Enter your namejyoti\n"
     ]
    }
   ],
   "source": [
    "name=input(\"Enter your name\")\n"
   ]
  },
  {
   "cell_type": "code",
   "execution_count": 15,
   "id": "8be27945",
   "metadata": {},
   "outputs": [
    {
     "name": "stdout",
     "output_type": "stream",
     "text": [
      "jyoti\n"
     ]
    }
   ],
   "source": [
    "print(name)"
   ]
  },
  {
   "cell_type": "code",
   "execution_count": 17,
   "id": "f9a18ded",
   "metadata": {},
   "outputs": [
    {
     "name": "stdout",
     "output_type": "stream",
     "text": [
      "Your name is  jyoti\n"
     ]
    }
   ],
   "source": [
    "print('Your name is ',name)"
   ]
  },
  {
   "cell_type": "code",
   "execution_count": null,
   "id": "99715378",
   "metadata": {},
   "outputs": [],
   "source": []
  },
  {
   "cell_type": "markdown",
   "id": "af20118b",
   "metadata": {},
   "source": [
    "###Concatination"
   ]
  }
 ],
 "metadata": {
  "kernelspec": {
   "display_name": "Python 3",
   "language": "python",
   "name": "python3"
  },
  "language_info": {
   "codemirror_mode": {
    "name": "ipython",
    "version": 3
   },
   "file_extension": ".py",
   "mimetype": "text/x-python",
   "name": "python",
   "nbconvert_exporter": "python",
   "pygments_lexer": "ipython3",
   "version": "3.8.8"
  }
 },
 "nbformat": 4,
 "nbformat_minor": 5
}
